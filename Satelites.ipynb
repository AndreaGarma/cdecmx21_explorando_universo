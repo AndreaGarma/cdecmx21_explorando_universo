{
  "nbformat": 4,
  "nbformat_minor": 5,
  "metadata": {
    "kernelspec": {
      "display_name": "Python 3",
      "language": "python",
      "name": "python3"
    },
    "language_info": {
      "codemirror_mode": {
        "name": "ipython",
        "version": 3
      },
      "file_extension": ".py",
      "mimetype": "text/x-python",
      "name": "python",
      "nbconvert_exporter": "python",
      "pygments_lexer": "ipython3",
      "version": "3.7.8"
    },
    "colab": {
      "name": "Satelites.ipynb",
      "provenance": [],
      "include_colab_link": true
    }
  },
  "cells": [
    {
      "cell_type": "markdown",
      "metadata": {
        "id": "view-in-github",
        "colab_type": "text"
      },
      "source": [
        "<a href=\"https://colab.research.google.com/github/AndreaGarma1/cdecmx21_explorando_universo/blob/main/Satelites.ipynb\" target=\"_parent\"><img src=\"https://colab.research.google.com/assets/colab-badge.svg\" alt=\"Open In Colab\"/></a>"
      ]
    },
    {
      "cell_type": "markdown",
      "metadata": {
        "id": "886d8c2f-03bf-4f53-b5fa-091b0f5dff0e"
      },
      "source": [
        "<h2>¿Qué son los desechos orbitantes?</h2>\n"
      ],
      "id": "886d8c2f-03bf-4f53-b5fa-091b0f5dff0e"
    },
    {
      "cell_type": "markdown",
      "metadata": {
        "id": "1203e498-8080-4eb9-83a2-0aa6205dc615"
      },
      "source": [
        "<p>Se designa a cualquier objeto artificial que orbita la Tierra, dicho objeto ya no posee vida útil; son peligrosos no por la cantidad actual de basura que hay, si no por el ritmo al cuál se acumula.</p>"
      ],
      "id": "1203e498-8080-4eb9-83a2-0aa6205dc615"
    },
    {
      "cell_type": "markdown",
      "metadata": {
        "id": "5f46592d-6123-4d58-a774-c2f91cd2f324"
      },
      "source": [
        "<h3>¿Qué ODS se ve puesto en detrimento?</h3>"
      ],
      "id": "5f46592d-6123-4d58-a774-c2f91cd2f324"
    },
    {
      "cell_type": "markdown",
      "metadata": {
        "id": "3f26d5fb-d742-4bd8-8487-7bd6e6dfd7f7"
      },
      "source": [
        "<p>El equipo investigador ha logrado señalar dos objetivos que se ponen en detrimento al ignorar el tema de la basura espacial</p>"
      ],
      "id": "3f26d5fb-d742-4bd8-8487-7bd6e6dfd7f7"
    },
    {
      "cell_type": "markdown",
      "metadata": {
        "tags": [],
        "id": "b75e8da3-91d1-484b-b3c4-2e005597d4da"
      },
      "source": [
        "<h2>Objetivo 11: Ciudades y comunidades sostenibles.</h2>"
      ],
      "id": "b75e8da3-91d1-484b-b3c4-2e005597d4da"
    },
    {
      "cell_type": "markdown",
      "metadata": {
        "id": "b35725cb-120b-49db-9086-4ec44594cda8"
      },
      "source": [
        "<p>\"Las ciudades y las áreas metropolitanas son centros neurálgicos del crecimiento económico, ya que contribuyen al 60 % aproximadamente del PIB mundial. Sin embargo, también representan alrededor del 70 % de las emisiones de carbono mundiales y más del 60 % del uso de recursos.\" United Nations. Al no aprovechar al máximo y trabajar por la recuperación o el tratamiento de la contaminación espacial, se ven afectadas nuestras emisiones de carbono.</p>"
      ],
      "id": "b35725cb-120b-49db-9086-4ec44594cda8"
    },
    {
      "cell_type": "markdown",
      "metadata": {
        "id": "abe40351-3a30-44d8-9777-1367204cc384"
      },
      "source": [
        "<h2>Objetivo 9: Industria, innovación e infraestructura.</h2>"
      ],
      "id": "abe40351-3a30-44d8-9777-1367204cc384"
    },
    {
      "cell_type": "markdown",
      "metadata": {
        "id": "e93f0d23-29e8-4758-96cf-edd3a3767d74"
      },
      "source": [
        "<p>\"En términos de infraestructura de comunicaciones, más de la mitad de la población mundial está ahora conectada y casi toda la población global vive en un área con cobertura de red móvil. Se estima que, en 2019, el 96,5 % de la población tenía cobertura de red, como mínimo, 2G\" United Nations. Si la contaminación espacial sigue aumentando, entonces el lanzamiento de futuros sátelites será difícil, poniendo en riesgo los planes de cobertura mundial.</p>"
      ],
      "id": "e93f0d23-29e8-4758-96cf-edd3a3767d74"
    },
    {
      "cell_type": "markdown",
      "metadata": {
        "id": "00fbc637-9ea4-4c97-bf8e-6b931fa1a770"
      },
      "source": [
        "<h2> Situación de Satélites Global</h2>"
      ],
      "id": "00fbc637-9ea4-4c97-bf8e-6b931fa1a770"
    },
    {
      "cell_type": "code",
      "metadata": {
        "id": "bc46e42a-bef5-4d1c-9fb5-86868c1e1aae"
      },
      "source": [
        "# import packages\n",
        "import pandas as pd\n",
        "import numpy as np"
      ],
      "id": "bc46e42a-bef5-4d1c-9fb5-86868c1e1aae",
      "execution_count": 5,
      "outputs": []
    },
    {
      "cell_type": "code",
      "metadata": {
        "tags": [],
        "trusted": true,
        "id": "Qz_vmiUUec1W"
      },
      "source": [
        "sat_sit = pd.read_csv(\"https://raw.githubusercontent.com/CdeCMx-org/proyectos-2021-club18_3/main/sat_sit.csv\")\n",
        "obdet = pd.read_csv(\"https://raw.githubusercontent.com/CdeCMx-org/proyectos-2021-club18_3/main/obdet.csv\")\n",
        "obdets = pd.read_csv(\"https://raw.githubusercontent.com/CdeCMx-org/proyectos-2021-club18_3/main/obdets.csv\")\n"
      ],
      "id": "Qz_vmiUUec1W",
      "execution_count": 6,
      "outputs": []
    },
    {
      "cell_type": "code",
      "metadata": {
        "tags": [],
        "trusted": true,
        "colab": {
          "base_uri": "https://localhost:8080/",
          "height": 278
        },
        "id": "a0fd6770-50c1-4cd3-b680-dc5a04c103cb",
        "outputId": "df7b7f47-f6e7-4b8d-dfc7-e2517ba62159"
      },
      "source": [
        "sat_sit.head()"
      ],
      "id": "a0fd6770-50c1-4cd3-b680-dc5a04c103cb",
      "execution_count": 7,
      "outputs": [
        {
          "output_type": "execute_result",
          "data": {
            "text/html": [
              "<div>\n",
              "<style scoped>\n",
              "    .dataframe tbody tr th:only-of-type {\n",
              "        vertical-align: middle;\n",
              "    }\n",
              "\n",
              "    .dataframe tbody tr th {\n",
              "        vertical-align: top;\n",
              "    }\n",
              "\n",
              "    .dataframe thead th {\n",
              "        text-align: right;\n",
              "    }\n",
              "</style>\n",
              "<table border=\"1\" class=\"dataframe\">\n",
              "  <thead>\n",
              "    <tr style=\"text-align: right;\">\n",
              "      <th></th>\n",
              "      <th>COUNTRY</th>\n",
              "      <th>SPADOC_CD</th>\n",
              "      <th>ORBITAL_TBA</th>\n",
              "      <th>ORBITAL_PAYLOAD_COUNT</th>\n",
              "      <th>ORBITAL_ROCKET_BODY_COUNT</th>\n",
              "      <th>ORBITAL_DEBRIS_COUNT</th>\n",
              "      <th>ORBITAL_TOTAL_COUNT</th>\n",
              "      <th>DECAYED_PAYLOAD_COUNT</th>\n",
              "      <th>DECAYED_ROCKET_BODY_COUNT</th>\n",
              "      <th>DECAYED_DEBRIS_COUNT</th>\n",
              "      <th>DECAYED_TOTAL_COUNT</th>\n",
              "      <th>COUNTRY_TOTAL</th>\n",
              "    </tr>\n",
              "  </thead>\n",
              "  <tbody>\n",
              "    <tr>\n",
              "      <th>0</th>\n",
              "      <td>ARAB SATELLITE COMMUNICATIONS ORGANIZATION</td>\n",
              "      <td>AB</td>\n",
              "      <td>0</td>\n",
              "      <td>14</td>\n",
              "      <td>0</td>\n",
              "      <td>0</td>\n",
              "      <td>14</td>\n",
              "      <td>1</td>\n",
              "      <td>0</td>\n",
              "      <td>0</td>\n",
              "      <td>1</td>\n",
              "      <td>15</td>\n",
              "    </tr>\n",
              "    <tr>\n",
              "      <th>1</th>\n",
              "      <td>ASIASAT CORP</td>\n",
              "      <td>AC</td>\n",
              "      <td>0</td>\n",
              "      <td>8</td>\n",
              "      <td>0</td>\n",
              "      <td>0</td>\n",
              "      <td>8</td>\n",
              "      <td>0</td>\n",
              "      <td>0</td>\n",
              "      <td>0</td>\n",
              "      <td>0</td>\n",
              "      <td>8</td>\n",
              "    </tr>\n",
              "    <tr>\n",
              "      <th>2</th>\n",
              "      <td>REPUBLIC OF ANGOLA</td>\n",
              "      <td>AGO</td>\n",
              "      <td>0</td>\n",
              "      <td>1</td>\n",
              "      <td>0</td>\n",
              "      <td>0</td>\n",
              "      <td>1</td>\n",
              "      <td>0</td>\n",
              "      <td>0</td>\n",
              "      <td>0</td>\n",
              "      <td>0</td>\n",
              "      <td>1</td>\n",
              "    </tr>\n",
              "    <tr>\n",
              "      <th>3</th>\n",
              "      <td>ALGERIA</td>\n",
              "      <td>ALG</td>\n",
              "      <td>0</td>\n",
              "      <td>6</td>\n",
              "      <td>0</td>\n",
              "      <td>0</td>\n",
              "      <td>6</td>\n",
              "      <td>0</td>\n",
              "      <td>0</td>\n",
              "      <td>0</td>\n",
              "      <td>0</td>\n",
              "      <td>6</td>\n",
              "    </tr>\n",
              "    <tr>\n",
              "      <th>4</th>\n",
              "      <td>ARGENTINA</td>\n",
              "      <td>ARGN</td>\n",
              "      <td>0</td>\n",
              "      <td>39</td>\n",
              "      <td>0</td>\n",
              "      <td>1</td>\n",
              "      <td>40</td>\n",
              "      <td>2</td>\n",
              "      <td>0</td>\n",
              "      <td>0</td>\n",
              "      <td>2</td>\n",
              "      <td>42</td>\n",
              "    </tr>\n",
              "  </tbody>\n",
              "</table>\n",
              "</div>"
            ],
            "text/plain": [
              "                                      COUNTRY  ... COUNTRY_TOTAL\n",
              "0  ARAB SATELLITE COMMUNICATIONS ORGANIZATION  ...            15\n",
              "1                                ASIASAT CORP  ...             8\n",
              "2                          REPUBLIC OF ANGOLA  ...             1\n",
              "3                                     ALGERIA  ...             6\n",
              "4                                   ARGENTINA  ...            42\n",
              "\n",
              "[5 rows x 12 columns]"
            ]
          },
          "metadata": {},
          "execution_count": 7
        }
      ]
    },
    {
      "cell_type": "markdown",
      "metadata": {
        "tags": [],
        "id": "572f1d1f-eb36-4e13-b5aa-a499d43fd126"
      },
      "source": [
        "<h2> Objetos deteriorados orbitantes</h2>"
      ],
      "id": "572f1d1f-eb36-4e13-b5aa-a499d43fd126"
    },
    {
      "cell_type": "code",
      "metadata": {
        "trusted": true,
        "colab": {
          "base_uri": "https://localhost:8080/",
          "height": 206
        },
        "id": "fa2065a2-10e7-4633-8479-3e6246064f65",
        "outputId": "1c426b98-2f7a-4445-ca3f-7b46c806c6fc"
      },
      "source": [
        "obdet.head()"
      ],
      "id": "fa2065a2-10e7-4633-8479-3e6246064f65",
      "execution_count": 8,
      "outputs": [
        {
          "output_type": "execute_result",
          "data": {
            "text/html": [
              "<div>\n",
              "<style scoped>\n",
              "    .dataframe tbody tr th:only-of-type {\n",
              "        vertical-align: middle;\n",
              "    }\n",
              "\n",
              "    .dataframe tbody tr th {\n",
              "        vertical-align: top;\n",
              "    }\n",
              "\n",
              "    .dataframe thead th {\n",
              "        text-align: right;\n",
              "    }\n",
              "</style>\n",
              "<table border=\"1\" class=\"dataframe\">\n",
              "  <thead>\n",
              "    <tr style=\"text-align: right;\">\n",
              "      <th></th>\n",
              "      <th>OBJECT_ID</th>\n",
              "      <th>OBJECT_NAME</th>\n",
              "      <th>NORAD_CAT_ID</th>\n",
              "      <th>COUNTRY</th>\n",
              "      <th>PERIOD</th>\n",
              "      <th>INCLINATION</th>\n",
              "      <th>APOGEE</th>\n",
              "      <th>PERIGEE</th>\n",
              "      <th>RCS_SIZE</th>\n",
              "      <th>RCSVALUE</th>\n",
              "      <th>LAUNCH</th>\n",
              "      <th>DECAY</th>\n",
              "      <th>COMMENT</th>\n",
              "    </tr>\n",
              "  </thead>\n",
              "  <tbody>\n",
              "    <tr>\n",
              "      <th>0</th>\n",
              "      <td>2021-072B</td>\n",
              "      <td>ANTARES R/B</td>\n",
              "      <td>49065</td>\n",
              "      <td>US</td>\n",
              "      <td>87.31</td>\n",
              "      <td>51.59</td>\n",
              "      <td>152.0</td>\n",
              "      <td>131.0</td>\n",
              "      <td>LARGE</td>\n",
              "      <td>0</td>\n",
              "      <td>2021-08-10</td>\n",
              "      <td>2021-08-18</td>\n",
              "      <td>NaN</td>\n",
              "    </tr>\n",
              "    <tr>\n",
              "      <th>1</th>\n",
              "      <td>2021-066B</td>\n",
              "      <td>SL-25 R/B</td>\n",
              "      <td>49045</td>\n",
              "      <td>CIS</td>\n",
              "      <td>87.51</td>\n",
              "      <td>51.59</td>\n",
              "      <td>157.0</td>\n",
              "      <td>146.0</td>\n",
              "      <td>LARGE</td>\n",
              "      <td>0</td>\n",
              "      <td>2021-07-21</td>\n",
              "      <td>2021-08-06</td>\n",
              "      <td>NaN</td>\n",
              "    </tr>\n",
              "    <tr>\n",
              "      <th>2</th>\n",
              "      <td>2019-063AQ</td>\n",
              "      <td>YUNHAI 1-02 DEB</td>\n",
              "      <td>49042</td>\n",
              "      <td>PRC</td>\n",
              "      <td>93.75</td>\n",
              "      <td>98.07</td>\n",
              "      <td>511.0</td>\n",
              "      <td>405.0</td>\n",
              "      <td>SMALL</td>\n",
              "      <td>0</td>\n",
              "      <td>2019-09-25</td>\n",
              "      <td>2021-08-05</td>\n",
              "      <td>NaN</td>\n",
              "    </tr>\n",
              "    <tr>\n",
              "      <th>3</th>\n",
              "      <td>2021-048C</td>\n",
              "      <td>DRAGON CRS-22 DEB</td>\n",
              "      <td>49025</td>\n",
              "      <td>US</td>\n",
              "      <td>87.58</td>\n",
              "      <td>51.64</td>\n",
              "      <td>163.0</td>\n",
              "      <td>146.0</td>\n",
              "      <td>LARGE</td>\n",
              "      <td>0</td>\n",
              "      <td>2021-06-03</td>\n",
              "      <td>2021-07-25</td>\n",
              "      <td>NaN</td>\n",
              "    </tr>\n",
              "    <tr>\n",
              "      <th>4</th>\n",
              "      <td>2021-057B</td>\n",
              "      <td>SL-4 R/B</td>\n",
              "      <td>48870</td>\n",
              "      <td>CIS</td>\n",
              "      <td>87.37</td>\n",
              "      <td>51.63</td>\n",
              "      <td>150.0</td>\n",
              "      <td>138.0</td>\n",
              "      <td>LARGE</td>\n",
              "      <td>0</td>\n",
              "      <td>2021-06-29</td>\n",
              "      <td>2021-07-02</td>\n",
              "      <td>NaN</td>\n",
              "    </tr>\n",
              "  </tbody>\n",
              "</table>\n",
              "</div>"
            ],
            "text/plain": [
              "    OBJECT_ID        OBJECT_NAME  NORAD_CAT_ID  ...      LAUNCH       DECAY  COMMENT\n",
              "0   2021-072B        ANTARES R/B         49065  ...  2021-08-10  2021-08-18      NaN\n",
              "1   2021-066B          SL-25 R/B         49045  ...  2021-07-21  2021-08-06      NaN\n",
              "2  2019-063AQ    YUNHAI 1-02 DEB         49042  ...  2019-09-25  2021-08-05      NaN\n",
              "3   2021-048C  DRAGON CRS-22 DEB         49025  ...  2021-06-03  2021-07-25      NaN\n",
              "4   2021-057B           SL-4 R/B         48870  ...  2021-06-29  2021-07-02      NaN\n",
              "\n",
              "[5 rows x 13 columns]"
            ]
          },
          "metadata": {},
          "execution_count": 8
        }
      ]
    },
    {
      "cell_type": "markdown",
      "metadata": {
        "id": "0330c3ad-6ccd-45d1-bb85-5f7207bab416"
      },
      "source": [
        "<h2> Objetos orbitantes que decayeron en los últimos 7 días</h2>"
      ],
      "id": "0330c3ad-6ccd-45d1-bb85-5f7207bab416"
    },
    {
      "cell_type": "code",
      "metadata": {
        "trusted": true,
        "colab": {
          "base_uri": "https://localhost:8080/",
          "height": 313
        },
        "id": "a0890295-3c08-4d90-ab00-a4ca44a1d125",
        "outputId": "778f072f-9f53-448d-98de-a1a0d1aff62f"
      },
      "source": [
        "obdets.head()\n"
      ],
      "id": "a0890295-3c08-4d90-ab00-a4ca44a1d125",
      "execution_count": 9,
      "outputs": [
        {
          "output_type": "execute_result",
          "data": {
            "text/html": [
              "<div>\n",
              "<style scoped>\n",
              "    .dataframe tbody tr th:only-of-type {\n",
              "        vertical-align: middle;\n",
              "    }\n",
              "\n",
              "    .dataframe tbody tr th {\n",
              "        vertical-align: top;\n",
              "    }\n",
              "\n",
              "    .dataframe thead th {\n",
              "        text-align: right;\n",
              "    }\n",
              "</style>\n",
              "<table border=\"1\" class=\"dataframe\">\n",
              "  <thead>\n",
              "    <tr style=\"text-align: right;\">\n",
              "      <th></th>\n",
              "      <th>INTLDES</th>\n",
              "      <th>NORAD_CAT_ID</th>\n",
              "      <th>OBJECT_TYPE</th>\n",
              "      <th>SATNAME</th>\n",
              "      <th>COUNTRY</th>\n",
              "      <th>LAUNCH</th>\n",
              "      <th>SITE</th>\n",
              "      <th>DECAY</th>\n",
              "      <th>PERIOD</th>\n",
              "      <th>INCLINATION</th>\n",
              "      <th>APOGEE</th>\n",
              "      <th>PERIGEE</th>\n",
              "      <th>COMMENT</th>\n",
              "      <th>COMMENTCODE</th>\n",
              "      <th>RCSVALUE</th>\n",
              "      <th>RCS_SIZE</th>\n",
              "      <th>FILE</th>\n",
              "      <th>LAUNCH_YEAR</th>\n",
              "      <th>LAUNCH_NUM</th>\n",
              "      <th>LAUNCH_PIECE</th>\n",
              "      <th>CURRENT</th>\n",
              "      <th>OBJECT_NAME</th>\n",
              "      <th>OBJECT_ID</th>\n",
              "      <th>OBJECT_NUMBER</th>\n",
              "    </tr>\n",
              "  </thead>\n",
              "  <tbody>\n",
              "    <tr>\n",
              "      <th>0</th>\n",
              "      <td>2020-006AB</td>\n",
              "      <td>45069</td>\n",
              "      <td>PAYLOAD</td>\n",
              "      <td>STARLINK-1163</td>\n",
              "      <td>US</td>\n",
              "      <td>2020-01-29</td>\n",
              "      <td>AFETR</td>\n",
              "      <td>2021-08-19</td>\n",
              "      <td>87.66</td>\n",
              "      <td>53.00</td>\n",
              "      <td>163</td>\n",
              "      <td>154</td>\n",
              "      <td>NaN</td>\n",
              "      <td>NaN</td>\n",
              "      <td>0</td>\n",
              "      <td>LARGE</td>\n",
              "      <td>7783</td>\n",
              "      <td>2020</td>\n",
              "      <td>6</td>\n",
              "      <td>AB</td>\n",
              "      <td>Y</td>\n",
              "      <td>STARLINK-1163</td>\n",
              "      <td>2020-006AB</td>\n",
              "      <td>45069</td>\n",
              "    </tr>\n",
              "    <tr>\n",
              "      <th>1</th>\n",
              "      <td>2021-072B</td>\n",
              "      <td>49065</td>\n",
              "      <td>ROCKET BODY</td>\n",
              "      <td>ANTARES R/B</td>\n",
              "      <td>US</td>\n",
              "      <td>2021-08-10</td>\n",
              "      <td>WLPIS</td>\n",
              "      <td>2021-08-18</td>\n",
              "      <td>87.31</td>\n",
              "      <td>51.59</td>\n",
              "      <td>152</td>\n",
              "      <td>131</td>\n",
              "      <td>NaN</td>\n",
              "      <td>NaN</td>\n",
              "      <td>0</td>\n",
              "      <td>LARGE</td>\n",
              "      <td>7783</td>\n",
              "      <td>2021</td>\n",
              "      <td>72</td>\n",
              "      <td>B</td>\n",
              "      <td>Y</td>\n",
              "      <td>ANTARES R/B</td>\n",
              "      <td>2021-072B</td>\n",
              "      <td>49065</td>\n",
              "    </tr>\n",
              "    <tr>\n",
              "      <th>2</th>\n",
              "      <td>2020-055AG</td>\n",
              "      <td>46057</td>\n",
              "      <td>PAYLOAD</td>\n",
              "      <td>STARLINK-1562</td>\n",
              "      <td>US</td>\n",
              "      <td>2020-08-07</td>\n",
              "      <td>AFETR</td>\n",
              "      <td>2021-08-18</td>\n",
              "      <td>87.56</td>\n",
              "      <td>53.01</td>\n",
              "      <td>160</td>\n",
              "      <td>147</td>\n",
              "      <td>NaN</td>\n",
              "      <td>NaN</td>\n",
              "      <td>0</td>\n",
              "      <td>LARGE</td>\n",
              "      <td>7783</td>\n",
              "      <td>2020</td>\n",
              "      <td>55</td>\n",
              "      <td>AG</td>\n",
              "      <td>Y</td>\n",
              "      <td>STARLINK-1562</td>\n",
              "      <td>2020-055AG</td>\n",
              "      <td>46057</td>\n",
              "    </tr>\n",
              "    <tr>\n",
              "      <th>3</th>\n",
              "      <td>2020-062BA</td>\n",
              "      <td>46373</td>\n",
              "      <td>PAYLOAD</td>\n",
              "      <td>STARLINK-1691</td>\n",
              "      <td>US</td>\n",
              "      <td>2020-09-03</td>\n",
              "      <td>AFETR</td>\n",
              "      <td>2021-08-17</td>\n",
              "      <td>87.28</td>\n",
              "      <td>53.04</td>\n",
              "      <td>156</td>\n",
              "      <td>124</td>\n",
              "      <td>NaN</td>\n",
              "      <td>NaN</td>\n",
              "      <td>0</td>\n",
              "      <td>LARGE</td>\n",
              "      <td>7782</td>\n",
              "      <td>2020</td>\n",
              "      <td>62</td>\n",
              "      <td>BA</td>\n",
              "      <td>Y</td>\n",
              "      <td>STARLINK-1691</td>\n",
              "      <td>2020-062BA</td>\n",
              "      <td>46373</td>\n",
              "    </tr>\n",
              "    <tr>\n",
              "      <th>4</th>\n",
              "      <td>2019-074T</td>\n",
              "      <td>44730</td>\n",
              "      <td>PAYLOAD</td>\n",
              "      <td>STARLINK-1025</td>\n",
              "      <td>US</td>\n",
              "      <td>2019-11-11</td>\n",
              "      <td>AFETR</td>\n",
              "      <td>2021-08-17</td>\n",
              "      <td>88.09</td>\n",
              "      <td>53.00</td>\n",
              "      <td>192</td>\n",
              "      <td>168</td>\n",
              "      <td>NaN</td>\n",
              "      <td>NaN</td>\n",
              "      <td>0</td>\n",
              "      <td>LARGE</td>\n",
              "      <td>7781</td>\n",
              "      <td>2019</td>\n",
              "      <td>74</td>\n",
              "      <td>T</td>\n",
              "      <td>Y</td>\n",
              "      <td>STARLINK-1025</td>\n",
              "      <td>2019-074T</td>\n",
              "      <td>44730</td>\n",
              "    </tr>\n",
              "  </tbody>\n",
              "</table>\n",
              "</div>"
            ],
            "text/plain": [
              "      INTLDES  NORAD_CAT_ID  ...   OBJECT_ID OBJECT_NUMBER\n",
              "0  2020-006AB         45069  ...  2020-006AB         45069\n",
              "1   2021-072B         49065  ...   2021-072B         49065\n",
              "2  2020-055AG         46057  ...  2020-055AG         46057\n",
              "3  2020-062BA         46373  ...  2020-062BA         46373\n",
              "4   2019-074T         44730  ...   2019-074T         44730\n",
              "\n",
              "[5 rows x 24 columns]"
            ]
          },
          "metadata": {},
          "execution_count": 9
        }
      ]
    },
    {
      "cell_type": "markdown",
      "metadata": {
        "tags": [],
        "id": "4e3ec65d-b3d2-41b5-8e44-c808f9dfa7ce"
      },
      "source": [
        "<h2> Situación de Satélites Global y los tres países con más basura en el espacio</h2>"
      ],
      "id": "4e3ec65d-b3d2-41b5-8e44-c808f9dfa7ce"
    },
    {
      "cell_type": "code",
      "metadata": {
        "trusted": true,
        "id": "cf77d805-01d8-4935-bdce-ed2c780978af"
      },
      "source": [
        "# data cleaning -renaming\n",
        "sat_sit.columns = map(str.lower, sat_sit.columns)\n",
        "obdet.columns = map(str.lower, obdet.columns)\n",
        "obdets.columns = map(str.lower, obdets.columns)\n",
        "\n"
      ],
      "id": "cf77d805-01d8-4935-bdce-ed2c780978af",
      "execution_count": 10,
      "outputs": []
    },
    {
      "cell_type": "code",
      "metadata": {
        "trusted": true,
        "id": "b878a374-febf-43ff-ad67-658448fce105"
      },
      "source": [
        "sorted_sat_sit = sat_sit.sort_values(\"orbital_debris_count\", ascending=False).head(5)"
      ],
      "id": "b878a374-febf-43ff-ad67-658448fce105",
      "execution_count": 11,
      "outputs": []
    },
    {
      "cell_type": "code",
      "metadata": {
        "trusted": true,
        "colab": {
          "base_uri": "https://localhost:8080/",
          "height": 348
        },
        "id": "33e47e95-5159-4f3f-ab82-734f70f83c32",
        "outputId": "d38d2960-e926-4964-ac23-ec948c453d4e"
      },
      "source": [
        "sorted_sat_sit"
      ],
      "id": "33e47e95-5159-4f3f-ab82-734f70f83c32",
      "execution_count": 12,
      "outputs": [
        {
          "output_type": "execute_result",
          "data": {
            "text/html": [
              "<div>\n",
              "<style scoped>\n",
              "    .dataframe tbody tr th:only-of-type {\n",
              "        vertical-align: middle;\n",
              "    }\n",
              "\n",
              "    .dataframe tbody tr th {\n",
              "        vertical-align: top;\n",
              "    }\n",
              "\n",
              "    .dataframe thead th {\n",
              "        text-align: right;\n",
              "    }\n",
              "</style>\n",
              "<table border=\"1\" class=\"dataframe\">\n",
              "  <thead>\n",
              "    <tr style=\"text-align: right;\">\n",
              "      <th></th>\n",
              "      <th>country</th>\n",
              "      <th>spadoc_cd</th>\n",
              "      <th>orbital_tba</th>\n",
              "      <th>orbital_payload_count</th>\n",
              "      <th>orbital_rocket_body_count</th>\n",
              "      <th>orbital_debris_count</th>\n",
              "      <th>orbital_total_count</th>\n",
              "      <th>decayed_payload_count</th>\n",
              "      <th>decayed_rocket_body_count</th>\n",
              "      <th>decayed_debris_count</th>\n",
              "      <th>decayed_total_count</th>\n",
              "      <th>country_total</th>\n",
              "    </tr>\n",
              "  </thead>\n",
              "  <tbody>\n",
              "    <tr>\n",
              "      <th>109</th>\n",
              "      <td>ALL</td>\n",
              "      <td>ALL</td>\n",
              "      <td>207</td>\n",
              "      <td>7672</td>\n",
              "      <td>2256</td>\n",
              "      <td>13382</td>\n",
              "      <td>23517</td>\n",
              "      <td>3661</td>\n",
              "      <td>3999</td>\n",
              "      <td>17894</td>\n",
              "      <td>25554</td>\n",
              "      <td>49071</td>\n",
              "    </tr>\n",
              "    <tr>\n",
              "      <th>18</th>\n",
              "      <td>COMMONWEALTH OF INDEPENDENT STATES</td>\n",
              "      <td>CIS</td>\n",
              "      <td>3</td>\n",
              "      <td>1551</td>\n",
              "      <td>1044</td>\n",
              "      <td>4691</td>\n",
              "      <td>7289</td>\n",
              "      <td>2068</td>\n",
              "      <td>2886</td>\n",
              "      <td>10444</td>\n",
              "      <td>15398</td>\n",
              "      <td>22687</td>\n",
              "    </tr>\n",
              "    <tr>\n",
              "      <th>105</th>\n",
              "      <td>UNITED STATES OF AMERICA</td>\n",
              "      <td>US</td>\n",
              "      <td>17</td>\n",
              "      <td>3719</td>\n",
              "      <td>718</td>\n",
              "      <td>4408</td>\n",
              "      <td>8862</td>\n",
              "      <td>1252</td>\n",
              "      <td>721</td>\n",
              "      <td>4707</td>\n",
              "      <td>6680</td>\n",
              "      <td>15542</td>\n",
              "    </tr>\n",
              "    <tr>\n",
              "      <th>76</th>\n",
              "      <td>PEOPLES REPUBLIC OF CHINA</td>\n",
              "      <td>PRC</td>\n",
              "      <td>66</td>\n",
              "      <td>483</td>\n",
              "      <td>184</td>\n",
              "      <td>3668</td>\n",
              "      <td>4401</td>\n",
              "      <td>101</td>\n",
              "      <td>195</td>\n",
              "      <td>1192</td>\n",
              "      <td>1488</td>\n",
              "      <td>5889</td>\n",
              "    </tr>\n",
              "    <tr>\n",
              "      <th>32</th>\n",
              "      <td>FRANCE</td>\n",
              "      <td>FR</td>\n",
              "      <td>0</td>\n",
              "      <td>74</td>\n",
              "      <td>162</td>\n",
              "      <td>350</td>\n",
              "      <td>586</td>\n",
              "      <td>11</td>\n",
              "      <td>82</td>\n",
              "      <td>661</td>\n",
              "      <td>754</td>\n",
              "      <td>1340</td>\n",
              "    </tr>\n",
              "  </tbody>\n",
              "</table>\n",
              "</div>"
            ],
            "text/plain": [
              "                                country  ... country_total\n",
              "109                                 ALL  ...         49071\n",
              "18   COMMONWEALTH OF INDEPENDENT STATES  ...         22687\n",
              "105            UNITED STATES OF AMERICA  ...         15542\n",
              "76            PEOPLES REPUBLIC OF CHINA  ...          5889\n",
              "32                               FRANCE  ...          1340\n",
              "\n",
              "[5 rows x 12 columns]"
            ]
          },
          "metadata": {},
          "execution_count": 12
        }
      ]
    },
    {
      "cell_type": "code",
      "metadata": {
        "trusted": true,
        "colab": {
          "base_uri": "https://localhost:8080/",
          "height": 284
        },
        "id": "28a3551b-0372-4295-aabf-8eb76c285db5",
        "outputId": "ea6660e3-f501-497e-f35c-b8c0ccc768d0"
      },
      "source": [
        "def highlight_col(x):\n",
        "    r = \"background-color: red\"\n",
        "    p = \"background-color: purple\"\n",
        "    g = \"background-color: gray\"\n",
        "    temp_df= pd.DataFrame(\"\", index=x.index, columns = x.columns)\n",
        "    temp_df.iloc[:, 5] = r\n",
        "    return temp_df\n",
        "sorted_sat_sit.head(5).style.apply(highlight_col, axis=None)"
      ],
      "id": "28a3551b-0372-4295-aabf-8eb76c285db5",
      "execution_count": 13,
      "outputs": [
        {
          "output_type": "execute_result",
          "data": {
            "text/html": [
              "<style  type=\"text/css\" >\n",
              "#T_753205c4_01fe_11ec_8f4c_0242ac1c0002row0_col5,#T_753205c4_01fe_11ec_8f4c_0242ac1c0002row1_col5,#T_753205c4_01fe_11ec_8f4c_0242ac1c0002row2_col5,#T_753205c4_01fe_11ec_8f4c_0242ac1c0002row3_col5,#T_753205c4_01fe_11ec_8f4c_0242ac1c0002row4_col5{\n",
              "            background-color:  red;\n",
              "        }</style><table id=\"T_753205c4_01fe_11ec_8f4c_0242ac1c0002\" ><thead>    <tr>        <th class=\"blank level0\" ></th>        <th class=\"col_heading level0 col0\" >country</th>        <th class=\"col_heading level0 col1\" >spadoc_cd</th>        <th class=\"col_heading level0 col2\" >orbital_tba</th>        <th class=\"col_heading level0 col3\" >orbital_payload_count</th>        <th class=\"col_heading level0 col4\" >orbital_rocket_body_count</th>        <th class=\"col_heading level0 col5\" >orbital_debris_count</th>        <th class=\"col_heading level0 col6\" >orbital_total_count</th>        <th class=\"col_heading level0 col7\" >decayed_payload_count</th>        <th class=\"col_heading level0 col8\" >decayed_rocket_body_count</th>        <th class=\"col_heading level0 col9\" >decayed_debris_count</th>        <th class=\"col_heading level0 col10\" >decayed_total_count</th>        <th class=\"col_heading level0 col11\" >country_total</th>    </tr></thead><tbody>\n",
              "                <tr>\n",
              "                        <th id=\"T_753205c4_01fe_11ec_8f4c_0242ac1c0002level0_row0\" class=\"row_heading level0 row0\" >109</th>\n",
              "                        <td id=\"T_753205c4_01fe_11ec_8f4c_0242ac1c0002row0_col0\" class=\"data row0 col0\" >ALL</td>\n",
              "                        <td id=\"T_753205c4_01fe_11ec_8f4c_0242ac1c0002row0_col1\" class=\"data row0 col1\" >ALL</td>\n",
              "                        <td id=\"T_753205c4_01fe_11ec_8f4c_0242ac1c0002row0_col2\" class=\"data row0 col2\" >207</td>\n",
              "                        <td id=\"T_753205c4_01fe_11ec_8f4c_0242ac1c0002row0_col3\" class=\"data row0 col3\" >7672</td>\n",
              "                        <td id=\"T_753205c4_01fe_11ec_8f4c_0242ac1c0002row0_col4\" class=\"data row0 col4\" >2256</td>\n",
              "                        <td id=\"T_753205c4_01fe_11ec_8f4c_0242ac1c0002row0_col5\" class=\"data row0 col5\" >13382</td>\n",
              "                        <td id=\"T_753205c4_01fe_11ec_8f4c_0242ac1c0002row0_col6\" class=\"data row0 col6\" >23517</td>\n",
              "                        <td id=\"T_753205c4_01fe_11ec_8f4c_0242ac1c0002row0_col7\" class=\"data row0 col7\" >3661</td>\n",
              "                        <td id=\"T_753205c4_01fe_11ec_8f4c_0242ac1c0002row0_col8\" class=\"data row0 col8\" >3999</td>\n",
              "                        <td id=\"T_753205c4_01fe_11ec_8f4c_0242ac1c0002row0_col9\" class=\"data row0 col9\" >17894</td>\n",
              "                        <td id=\"T_753205c4_01fe_11ec_8f4c_0242ac1c0002row0_col10\" class=\"data row0 col10\" >25554</td>\n",
              "                        <td id=\"T_753205c4_01fe_11ec_8f4c_0242ac1c0002row0_col11\" class=\"data row0 col11\" >49071</td>\n",
              "            </tr>\n",
              "            <tr>\n",
              "                        <th id=\"T_753205c4_01fe_11ec_8f4c_0242ac1c0002level0_row1\" class=\"row_heading level0 row1\" >18</th>\n",
              "                        <td id=\"T_753205c4_01fe_11ec_8f4c_0242ac1c0002row1_col0\" class=\"data row1 col0\" >COMMONWEALTH OF INDEPENDENT STATES</td>\n",
              "                        <td id=\"T_753205c4_01fe_11ec_8f4c_0242ac1c0002row1_col1\" class=\"data row1 col1\" >CIS</td>\n",
              "                        <td id=\"T_753205c4_01fe_11ec_8f4c_0242ac1c0002row1_col2\" class=\"data row1 col2\" >3</td>\n",
              "                        <td id=\"T_753205c4_01fe_11ec_8f4c_0242ac1c0002row1_col3\" class=\"data row1 col3\" >1551</td>\n",
              "                        <td id=\"T_753205c4_01fe_11ec_8f4c_0242ac1c0002row1_col4\" class=\"data row1 col4\" >1044</td>\n",
              "                        <td id=\"T_753205c4_01fe_11ec_8f4c_0242ac1c0002row1_col5\" class=\"data row1 col5\" >4691</td>\n",
              "                        <td id=\"T_753205c4_01fe_11ec_8f4c_0242ac1c0002row1_col6\" class=\"data row1 col6\" >7289</td>\n",
              "                        <td id=\"T_753205c4_01fe_11ec_8f4c_0242ac1c0002row1_col7\" class=\"data row1 col7\" >2068</td>\n",
              "                        <td id=\"T_753205c4_01fe_11ec_8f4c_0242ac1c0002row1_col8\" class=\"data row1 col8\" >2886</td>\n",
              "                        <td id=\"T_753205c4_01fe_11ec_8f4c_0242ac1c0002row1_col9\" class=\"data row1 col9\" >10444</td>\n",
              "                        <td id=\"T_753205c4_01fe_11ec_8f4c_0242ac1c0002row1_col10\" class=\"data row1 col10\" >15398</td>\n",
              "                        <td id=\"T_753205c4_01fe_11ec_8f4c_0242ac1c0002row1_col11\" class=\"data row1 col11\" >22687</td>\n",
              "            </tr>\n",
              "            <tr>\n",
              "                        <th id=\"T_753205c4_01fe_11ec_8f4c_0242ac1c0002level0_row2\" class=\"row_heading level0 row2\" >105</th>\n",
              "                        <td id=\"T_753205c4_01fe_11ec_8f4c_0242ac1c0002row2_col0\" class=\"data row2 col0\" >UNITED STATES OF AMERICA</td>\n",
              "                        <td id=\"T_753205c4_01fe_11ec_8f4c_0242ac1c0002row2_col1\" class=\"data row2 col1\" >US</td>\n",
              "                        <td id=\"T_753205c4_01fe_11ec_8f4c_0242ac1c0002row2_col2\" class=\"data row2 col2\" >17</td>\n",
              "                        <td id=\"T_753205c4_01fe_11ec_8f4c_0242ac1c0002row2_col3\" class=\"data row2 col3\" >3719</td>\n",
              "                        <td id=\"T_753205c4_01fe_11ec_8f4c_0242ac1c0002row2_col4\" class=\"data row2 col4\" >718</td>\n",
              "                        <td id=\"T_753205c4_01fe_11ec_8f4c_0242ac1c0002row2_col5\" class=\"data row2 col5\" >4408</td>\n",
              "                        <td id=\"T_753205c4_01fe_11ec_8f4c_0242ac1c0002row2_col6\" class=\"data row2 col6\" >8862</td>\n",
              "                        <td id=\"T_753205c4_01fe_11ec_8f4c_0242ac1c0002row2_col7\" class=\"data row2 col7\" >1252</td>\n",
              "                        <td id=\"T_753205c4_01fe_11ec_8f4c_0242ac1c0002row2_col8\" class=\"data row2 col8\" >721</td>\n",
              "                        <td id=\"T_753205c4_01fe_11ec_8f4c_0242ac1c0002row2_col9\" class=\"data row2 col9\" >4707</td>\n",
              "                        <td id=\"T_753205c4_01fe_11ec_8f4c_0242ac1c0002row2_col10\" class=\"data row2 col10\" >6680</td>\n",
              "                        <td id=\"T_753205c4_01fe_11ec_8f4c_0242ac1c0002row2_col11\" class=\"data row2 col11\" >15542</td>\n",
              "            </tr>\n",
              "            <tr>\n",
              "                        <th id=\"T_753205c4_01fe_11ec_8f4c_0242ac1c0002level0_row3\" class=\"row_heading level0 row3\" >76</th>\n",
              "                        <td id=\"T_753205c4_01fe_11ec_8f4c_0242ac1c0002row3_col0\" class=\"data row3 col0\" >PEOPLES REPUBLIC OF CHINA</td>\n",
              "                        <td id=\"T_753205c4_01fe_11ec_8f4c_0242ac1c0002row3_col1\" class=\"data row3 col1\" >PRC</td>\n",
              "                        <td id=\"T_753205c4_01fe_11ec_8f4c_0242ac1c0002row3_col2\" class=\"data row3 col2\" >66</td>\n",
              "                        <td id=\"T_753205c4_01fe_11ec_8f4c_0242ac1c0002row3_col3\" class=\"data row3 col3\" >483</td>\n",
              "                        <td id=\"T_753205c4_01fe_11ec_8f4c_0242ac1c0002row3_col4\" class=\"data row3 col4\" >184</td>\n",
              "                        <td id=\"T_753205c4_01fe_11ec_8f4c_0242ac1c0002row3_col5\" class=\"data row3 col5\" >3668</td>\n",
              "                        <td id=\"T_753205c4_01fe_11ec_8f4c_0242ac1c0002row3_col6\" class=\"data row3 col6\" >4401</td>\n",
              "                        <td id=\"T_753205c4_01fe_11ec_8f4c_0242ac1c0002row3_col7\" class=\"data row3 col7\" >101</td>\n",
              "                        <td id=\"T_753205c4_01fe_11ec_8f4c_0242ac1c0002row3_col8\" class=\"data row3 col8\" >195</td>\n",
              "                        <td id=\"T_753205c4_01fe_11ec_8f4c_0242ac1c0002row3_col9\" class=\"data row3 col9\" >1192</td>\n",
              "                        <td id=\"T_753205c4_01fe_11ec_8f4c_0242ac1c0002row3_col10\" class=\"data row3 col10\" >1488</td>\n",
              "                        <td id=\"T_753205c4_01fe_11ec_8f4c_0242ac1c0002row3_col11\" class=\"data row3 col11\" >5889</td>\n",
              "            </tr>\n",
              "            <tr>\n",
              "                        <th id=\"T_753205c4_01fe_11ec_8f4c_0242ac1c0002level0_row4\" class=\"row_heading level0 row4\" >32</th>\n",
              "                        <td id=\"T_753205c4_01fe_11ec_8f4c_0242ac1c0002row4_col0\" class=\"data row4 col0\" >FRANCE</td>\n",
              "                        <td id=\"T_753205c4_01fe_11ec_8f4c_0242ac1c0002row4_col1\" class=\"data row4 col1\" >FR</td>\n",
              "                        <td id=\"T_753205c4_01fe_11ec_8f4c_0242ac1c0002row4_col2\" class=\"data row4 col2\" >0</td>\n",
              "                        <td id=\"T_753205c4_01fe_11ec_8f4c_0242ac1c0002row4_col3\" class=\"data row4 col3\" >74</td>\n",
              "                        <td id=\"T_753205c4_01fe_11ec_8f4c_0242ac1c0002row4_col4\" class=\"data row4 col4\" >162</td>\n",
              "                        <td id=\"T_753205c4_01fe_11ec_8f4c_0242ac1c0002row4_col5\" class=\"data row4 col5\" >350</td>\n",
              "                        <td id=\"T_753205c4_01fe_11ec_8f4c_0242ac1c0002row4_col6\" class=\"data row4 col6\" >586</td>\n",
              "                        <td id=\"T_753205c4_01fe_11ec_8f4c_0242ac1c0002row4_col7\" class=\"data row4 col7\" >11</td>\n",
              "                        <td id=\"T_753205c4_01fe_11ec_8f4c_0242ac1c0002row4_col8\" class=\"data row4 col8\" >82</td>\n",
              "                        <td id=\"T_753205c4_01fe_11ec_8f4c_0242ac1c0002row4_col9\" class=\"data row4 col9\" >661</td>\n",
              "                        <td id=\"T_753205c4_01fe_11ec_8f4c_0242ac1c0002row4_col10\" class=\"data row4 col10\" >754</td>\n",
              "                        <td id=\"T_753205c4_01fe_11ec_8f4c_0242ac1c0002row4_col11\" class=\"data row4 col11\" >1340</td>\n",
              "            </tr>\n",
              "    </tbody></table>"
            ],
            "text/plain": [
              "<pandas.io.formats.style.Styler at 0x7f03fe272050>"
            ]
          },
          "metadata": {},
          "execution_count": 13
        }
      ]
    },
    {
      "cell_type": "code",
      "metadata": {
        "trusted": true,
        "colab": {
          "base_uri": "https://localhost:8080/"
        },
        "id": "c05bd57a-356e-4fa4-8b7c-65ba6ac2c854",
        "outputId": "c4bfa31e-bf97-4de9-c080-50b790e27006"
      },
      "source": [
        "pip install plotly --upgrade\n"
      ],
      "id": "c05bd57a-356e-4fa4-8b7c-65ba6ac2c854",
      "execution_count": 3,
      "outputs": [
        {
          "output_type": "stream",
          "text": [
            "Requirement already satisfied: plotly in /usr/local/lib/python3.7/dist-packages (5.2.1)\n",
            "Requirement already satisfied: tenacity>=6.2.0 in /usr/local/lib/python3.7/dist-packages (from plotly) (8.0.1)\n",
            "Requirement already satisfied: six in /usr/local/lib/python3.7/dist-packages (from plotly) (1.15.0)\n"
          ],
          "name": "stdout"
        }
      ]
    },
    {
      "cell_type": "code",
      "metadata": {
        "trusted": true,
        "id": "f983a13a-a9a9-448a-8a60-3912e5d6f0ac"
      },
      "source": [
        "import plotly.express as px\n"
      ],
      "id": "f983a13a-a9a9-448a-8a60-3912e5d6f0ac",
      "execution_count": 1,
      "outputs": []
    },
    {
      "cell_type": "code",
      "metadata": {
        "trusted": true,
        "colab": {
          "base_uri": "https://localhost:8080/",
          "height": 542
        },
        "id": "6efd5650-99ab-4f93-88a6-37c2d7cdf893",
        "outputId": "7e0e97ac-2e90-4b5b-b424-4ffb9b687197"
      },
      "source": [
        "fig = px.bar(sorted_sat_sit.head(5), x=\"country\", y=\"orbital_debris_count\", color=\"orbital_debris_count\", barmode=\"group\")\n",
        "fig.show()"
      ],
      "id": "6efd5650-99ab-4f93-88a6-37c2d7cdf893",
      "execution_count": 14,
      "outputs": [
        {
          "output_type": "display_data",
          "data": {
            "text/html": [
              "<html>\n",
              "<head><meta charset=\"utf-8\" /></head>\n",
              "<body>\n",
              "    <div>            <script src=\"https://cdnjs.cloudflare.com/ajax/libs/mathjax/2.7.5/MathJax.js?config=TeX-AMS-MML_SVG\"></script><script type=\"text/javascript\">if (window.MathJax) {MathJax.Hub.Config({SVG: {font: \"STIX-Web\"}});}</script>                <script type=\"text/javascript\">window.PlotlyConfig = {MathJaxConfig: 'local'};</script>\n",
              "        <script src=\"https://cdn.plot.ly/plotly-2.3.1.min.js\"></script>                <div id=\"5207fd86-8f39-4da7-917a-349dd32e5f2e\" class=\"plotly-graph-div\" style=\"height:525px; width:100%;\"></div>            <script type=\"text/javascript\">                                    window.PLOTLYENV=window.PLOTLYENV || {};                                    if (document.getElementById(\"5207fd86-8f39-4da7-917a-349dd32e5f2e\")) {                    Plotly.newPlot(                        \"5207fd86-8f39-4da7-917a-349dd32e5f2e\",                        [{\"alignmentgroup\":\"True\",\"hovertemplate\":\"country=%{x}<br>orbital_debris_count=%{marker.color}<extra></extra>\",\"legendgroup\":\"\",\"marker\":{\"color\":[13382,4691,4408,3668,350],\"coloraxis\":\"coloraxis\",\"pattern\":{\"shape\":\"\"}},\"name\":\"\",\"offsetgroup\":\"\",\"orientation\":\"v\",\"showlegend\":false,\"textposition\":\"auto\",\"type\":\"bar\",\"x\":[\"ALL\",\"COMMONWEALTH OF INDEPENDENT STATES\",\"UNITED STATES OF AMERICA\",\"PEOPLES REPUBLIC OF CHINA\",\"FRANCE\"],\"xaxis\":\"x\",\"y\":[13382,4691,4408,3668,350],\"yaxis\":\"y\"}],                        {\"barmode\":\"group\",\"coloraxis\":{\"colorbar\":{\"title\":{\"text\":\"orbital_debris_count\"}},\"colorscale\":[[0.0,\"#0d0887\"],[0.1111111111111111,\"#46039f\"],[0.2222222222222222,\"#7201a8\"],[0.3333333333333333,\"#9c179e\"],[0.4444444444444444,\"#bd3786\"],[0.5555555555555556,\"#d8576b\"],[0.6666666666666666,\"#ed7953\"],[0.7777777777777778,\"#fb9f3a\"],[0.8888888888888888,\"#fdca26\"],[1.0,\"#f0f921\"]]},\"legend\":{\"tracegroupgap\":0},\"margin\":{\"t\":60},\"template\":{\"data\":{\"bar\":[{\"error_x\":{\"color\":\"#2a3f5f\"},\"error_y\":{\"color\":\"#2a3f5f\"},\"marker\":{\"line\":{\"color\":\"#E5ECF6\",\"width\":0.5},\"pattern\":{\"fillmode\":\"overlay\",\"size\":10,\"solidity\":0.2}},\"type\":\"bar\"}],\"barpolar\":[{\"marker\":{\"line\":{\"color\":\"#E5ECF6\",\"width\":0.5},\"pattern\":{\"fillmode\":\"overlay\",\"size\":10,\"solidity\":0.2}},\"type\":\"barpolar\"}],\"carpet\":[{\"aaxis\":{\"endlinecolor\":\"#2a3f5f\",\"gridcolor\":\"white\",\"linecolor\":\"white\",\"minorgridcolor\":\"white\",\"startlinecolor\":\"#2a3f5f\"},\"baxis\":{\"endlinecolor\":\"#2a3f5f\",\"gridcolor\":\"white\",\"linecolor\":\"white\",\"minorgridcolor\":\"white\",\"startlinecolor\":\"#2a3f5f\"},\"type\":\"carpet\"}],\"choropleth\":[{\"colorbar\":{\"outlinewidth\":0,\"ticks\":\"\"},\"type\":\"choropleth\"}],\"contour\":[{\"colorbar\":{\"outlinewidth\":0,\"ticks\":\"\"},\"colorscale\":[[0.0,\"#0d0887\"],[0.1111111111111111,\"#46039f\"],[0.2222222222222222,\"#7201a8\"],[0.3333333333333333,\"#9c179e\"],[0.4444444444444444,\"#bd3786\"],[0.5555555555555556,\"#d8576b\"],[0.6666666666666666,\"#ed7953\"],[0.7777777777777778,\"#fb9f3a\"],[0.8888888888888888,\"#fdca26\"],[1.0,\"#f0f921\"]],\"type\":\"contour\"}],\"contourcarpet\":[{\"colorbar\":{\"outlinewidth\":0,\"ticks\":\"\"},\"type\":\"contourcarpet\"}],\"heatmap\":[{\"colorbar\":{\"outlinewidth\":0,\"ticks\":\"\"},\"colorscale\":[[0.0,\"#0d0887\"],[0.1111111111111111,\"#46039f\"],[0.2222222222222222,\"#7201a8\"],[0.3333333333333333,\"#9c179e\"],[0.4444444444444444,\"#bd3786\"],[0.5555555555555556,\"#d8576b\"],[0.6666666666666666,\"#ed7953\"],[0.7777777777777778,\"#fb9f3a\"],[0.8888888888888888,\"#fdca26\"],[1.0,\"#f0f921\"]],\"type\":\"heatmap\"}],\"heatmapgl\":[{\"colorbar\":{\"outlinewidth\":0,\"ticks\":\"\"},\"colorscale\":[[0.0,\"#0d0887\"],[0.1111111111111111,\"#46039f\"],[0.2222222222222222,\"#7201a8\"],[0.3333333333333333,\"#9c179e\"],[0.4444444444444444,\"#bd3786\"],[0.5555555555555556,\"#d8576b\"],[0.6666666666666666,\"#ed7953\"],[0.7777777777777778,\"#fb9f3a\"],[0.8888888888888888,\"#fdca26\"],[1.0,\"#f0f921\"]],\"type\":\"heatmapgl\"}],\"histogram\":[{\"marker\":{\"pattern\":{\"fillmode\":\"overlay\",\"size\":10,\"solidity\":0.2}},\"type\":\"histogram\"}],\"histogram2d\":[{\"colorbar\":{\"outlinewidth\":0,\"ticks\":\"\"},\"colorscale\":[[0.0,\"#0d0887\"],[0.1111111111111111,\"#46039f\"],[0.2222222222222222,\"#7201a8\"],[0.3333333333333333,\"#9c179e\"],[0.4444444444444444,\"#bd3786\"],[0.5555555555555556,\"#d8576b\"],[0.6666666666666666,\"#ed7953\"],[0.7777777777777778,\"#fb9f3a\"],[0.8888888888888888,\"#fdca26\"],[1.0,\"#f0f921\"]],\"type\":\"histogram2d\"}],\"histogram2dcontour\":[{\"colorbar\":{\"outlinewidth\":0,\"ticks\":\"\"},\"colorscale\":[[0.0,\"#0d0887\"],[0.1111111111111111,\"#46039f\"],[0.2222222222222222,\"#7201a8\"],[0.3333333333333333,\"#9c179e\"],[0.4444444444444444,\"#bd3786\"],[0.5555555555555556,\"#d8576b\"],[0.6666666666666666,\"#ed7953\"],[0.7777777777777778,\"#fb9f3a\"],[0.8888888888888888,\"#fdca26\"],[1.0,\"#f0f921\"]],\"type\":\"histogram2dcontour\"}],\"mesh3d\":[{\"colorbar\":{\"outlinewidth\":0,\"ticks\":\"\"},\"type\":\"mesh3d\"}],\"parcoords\":[{\"line\":{\"colorbar\":{\"outlinewidth\":0,\"ticks\":\"\"}},\"type\":\"parcoords\"}],\"pie\":[{\"automargin\":true,\"type\":\"pie\"}],\"scatter\":[{\"marker\":{\"colorbar\":{\"outlinewidth\":0,\"ticks\":\"\"}},\"type\":\"scatter\"}],\"scatter3d\":[{\"line\":{\"colorbar\":{\"outlinewidth\":0,\"ticks\":\"\"}},\"marker\":{\"colorbar\":{\"outlinewidth\":0,\"ticks\":\"\"}},\"type\":\"scatter3d\"}],\"scattercarpet\":[{\"marker\":{\"colorbar\":{\"outlinewidth\":0,\"ticks\":\"\"}},\"type\":\"scattercarpet\"}],\"scattergeo\":[{\"marker\":{\"colorbar\":{\"outlinewidth\":0,\"ticks\":\"\"}},\"type\":\"scattergeo\"}],\"scattergl\":[{\"marker\":{\"colorbar\":{\"outlinewidth\":0,\"ticks\":\"\"}},\"type\":\"scattergl\"}],\"scattermapbox\":[{\"marker\":{\"colorbar\":{\"outlinewidth\":0,\"ticks\":\"\"}},\"type\":\"scattermapbox\"}],\"scatterpolar\":[{\"marker\":{\"colorbar\":{\"outlinewidth\":0,\"ticks\":\"\"}},\"type\":\"scatterpolar\"}],\"scatterpolargl\":[{\"marker\":{\"colorbar\":{\"outlinewidth\":0,\"ticks\":\"\"}},\"type\":\"scatterpolargl\"}],\"scatterternary\":[{\"marker\":{\"colorbar\":{\"outlinewidth\":0,\"ticks\":\"\"}},\"type\":\"scatterternary\"}],\"surface\":[{\"colorbar\":{\"outlinewidth\":0,\"ticks\":\"\"},\"colorscale\":[[0.0,\"#0d0887\"],[0.1111111111111111,\"#46039f\"],[0.2222222222222222,\"#7201a8\"],[0.3333333333333333,\"#9c179e\"],[0.4444444444444444,\"#bd3786\"],[0.5555555555555556,\"#d8576b\"],[0.6666666666666666,\"#ed7953\"],[0.7777777777777778,\"#fb9f3a\"],[0.8888888888888888,\"#fdca26\"],[1.0,\"#f0f921\"]],\"type\":\"surface\"}],\"table\":[{\"cells\":{\"fill\":{\"color\":\"#EBF0F8\"},\"line\":{\"color\":\"white\"}},\"header\":{\"fill\":{\"color\":\"#C8D4E3\"},\"line\":{\"color\":\"white\"}},\"type\":\"table\"}]},\"layout\":{\"annotationdefaults\":{\"arrowcolor\":\"#2a3f5f\",\"arrowhead\":0,\"arrowwidth\":1},\"autotypenumbers\":\"strict\",\"coloraxis\":{\"colorbar\":{\"outlinewidth\":0,\"ticks\":\"\"}},\"colorscale\":{\"diverging\":[[0,\"#8e0152\"],[0.1,\"#c51b7d\"],[0.2,\"#de77ae\"],[0.3,\"#f1b6da\"],[0.4,\"#fde0ef\"],[0.5,\"#f7f7f7\"],[0.6,\"#e6f5d0\"],[0.7,\"#b8e186\"],[0.8,\"#7fbc41\"],[0.9,\"#4d9221\"],[1,\"#276419\"]],\"sequential\":[[0.0,\"#0d0887\"],[0.1111111111111111,\"#46039f\"],[0.2222222222222222,\"#7201a8\"],[0.3333333333333333,\"#9c179e\"],[0.4444444444444444,\"#bd3786\"],[0.5555555555555556,\"#d8576b\"],[0.6666666666666666,\"#ed7953\"],[0.7777777777777778,\"#fb9f3a\"],[0.8888888888888888,\"#fdca26\"],[1.0,\"#f0f921\"]],\"sequentialminus\":[[0.0,\"#0d0887\"],[0.1111111111111111,\"#46039f\"],[0.2222222222222222,\"#7201a8\"],[0.3333333333333333,\"#9c179e\"],[0.4444444444444444,\"#bd3786\"],[0.5555555555555556,\"#d8576b\"],[0.6666666666666666,\"#ed7953\"],[0.7777777777777778,\"#fb9f3a\"],[0.8888888888888888,\"#fdca26\"],[1.0,\"#f0f921\"]]},\"colorway\":[\"#636efa\",\"#EF553B\",\"#00cc96\",\"#ab63fa\",\"#FFA15A\",\"#19d3f3\",\"#FF6692\",\"#B6E880\",\"#FF97FF\",\"#FECB52\"],\"font\":{\"color\":\"#2a3f5f\"},\"geo\":{\"bgcolor\":\"white\",\"lakecolor\":\"white\",\"landcolor\":\"#E5ECF6\",\"showlakes\":true,\"showland\":true,\"subunitcolor\":\"white\"},\"hoverlabel\":{\"align\":\"left\"},\"hovermode\":\"closest\",\"mapbox\":{\"style\":\"light\"},\"paper_bgcolor\":\"white\",\"plot_bgcolor\":\"#E5ECF6\",\"polar\":{\"angularaxis\":{\"gridcolor\":\"white\",\"linecolor\":\"white\",\"ticks\":\"\"},\"bgcolor\":\"#E5ECF6\",\"radialaxis\":{\"gridcolor\":\"white\",\"linecolor\":\"white\",\"ticks\":\"\"}},\"scene\":{\"xaxis\":{\"backgroundcolor\":\"#E5ECF6\",\"gridcolor\":\"white\",\"gridwidth\":2,\"linecolor\":\"white\",\"showbackground\":true,\"ticks\":\"\",\"zerolinecolor\":\"white\"},\"yaxis\":{\"backgroundcolor\":\"#E5ECF6\",\"gridcolor\":\"white\",\"gridwidth\":2,\"linecolor\":\"white\",\"showbackground\":true,\"ticks\":\"\",\"zerolinecolor\":\"white\"},\"zaxis\":{\"backgroundcolor\":\"#E5ECF6\",\"gridcolor\":\"white\",\"gridwidth\":2,\"linecolor\":\"white\",\"showbackground\":true,\"ticks\":\"\",\"zerolinecolor\":\"white\"}},\"shapedefaults\":{\"line\":{\"color\":\"#2a3f5f\"}},\"ternary\":{\"aaxis\":{\"gridcolor\":\"white\",\"linecolor\":\"white\",\"ticks\":\"\"},\"baxis\":{\"gridcolor\":\"white\",\"linecolor\":\"white\",\"ticks\":\"\"},\"bgcolor\":\"#E5ECF6\",\"caxis\":{\"gridcolor\":\"white\",\"linecolor\":\"white\",\"ticks\":\"\"}},\"title\":{\"x\":0.05},\"xaxis\":{\"automargin\":true,\"gridcolor\":\"white\",\"linecolor\":\"white\",\"ticks\":\"\",\"title\":{\"standoff\":15},\"zerolinecolor\":\"white\",\"zerolinewidth\":2},\"yaxis\":{\"automargin\":true,\"gridcolor\":\"white\",\"linecolor\":\"white\",\"ticks\":\"\",\"title\":{\"standoff\":15},\"zerolinecolor\":\"white\",\"zerolinewidth\":2}}},\"xaxis\":{\"anchor\":\"y\",\"domain\":[0.0,1.0],\"title\":{\"text\":\"country\"}},\"yaxis\":{\"anchor\":\"x\",\"domain\":[0.0,1.0],\"title\":{\"text\":\"orbital_debris_count\"}}},                        {\"responsive\": true}                    ).then(function(){\n",
              "                            \n",
              "var gd = document.getElementById('5207fd86-8f39-4da7-917a-349dd32e5f2e');\n",
              "var x = new MutationObserver(function (mutations, observer) {{\n",
              "        var display = window.getComputedStyle(gd).display;\n",
              "        if (!display || display === 'none') {{\n",
              "            console.log([gd, 'removed!']);\n",
              "            Plotly.purge(gd);\n",
              "            observer.disconnect();\n",
              "        }}\n",
              "}});\n",
              "\n",
              "// Listen for the removal of the full notebook cells\n",
              "var notebookContainer = gd.closest('#notebook-container');\n",
              "if (notebookContainer) {{\n",
              "    x.observe(notebookContainer, {childList: true});\n",
              "}}\n",
              "\n",
              "// Listen for the clearing of the current output cell\n",
              "var outputEl = gd.closest('.output');\n",
              "if (outputEl) {{\n",
              "    x.observe(outputEl, {childList: true});\n",
              "}}\n",
              "\n",
              "                        })                };                            </script>        </div>\n",
              "</body>\n",
              "</html>"
            ]
          },
          "metadata": {}
        }
      ]
    },
    {
      "cell_type": "code",
      "metadata": {
        "trusted": true,
        "id": "a22189dc-5759-4156-94c8-2452db0a7073",
        "outputId": "7f5c2d62-d6b8-4e19-f177-58738c5bb539"
      },
      "source": [
        "pip install voila"
      ],
      "id": "a22189dc-5759-4156-94c8-2452db0a7073",
      "execution_count": null,
      "outputs": [
        {
          "name": "stdout",
          "text": "Requirement already satisfied: voila in /srv/conda/envs/notebook/lib/python3.7/site-packages (0.2.10)\nRequirement already satisfied: nbconvert<7,>=6.0.0 in /srv/conda/envs/notebook/lib/python3.7/site-packages (from voila) (6.0.7)\nRequirement already satisfied: jupyter-server<2.0.0,>=0.3.0 in /srv/conda/envs/notebook/lib/python3.7/site-packages (from voila) (1.4.1)\nRequirement already satisfied: nbclient<0.6,>=0.4.0 in /srv/conda/envs/notebook/lib/python3.7/site-packages (from voila) (0.5.3)\nRequirement already satisfied: jupyter-client<7,>=6.1.3 in /srv/conda/envs/notebook/lib/python3.7/site-packages (from voila) (6.1.11)\nRequirement already satisfied: pyzmq>=13 in /srv/conda/envs/notebook/lib/python3.7/site-packages (from jupyter-client<7,>=6.1.3->voila) (22.0.3)\nRequirement already satisfied: traitlets in /srv/conda/envs/notebook/lib/python3.7/site-packages (from jupyter-client<7,>=6.1.3->voila) (5.0.5)\nRequirement already satisfied: tornado>=4.1 in /srv/conda/envs/notebook/lib/python3.7/site-packages (from jupyter-client<7,>=6.1.3->voila) (6.1)\nRequirement already satisfied: python-dateutil>=2.1 in /srv/conda/envs/notebook/lib/python3.7/site-packages (from jupyter-client<7,>=6.1.3->voila) (2.8.1)\nRequirement already satisfied: jupyter-core>=4.6.0 in /srv/conda/envs/notebook/lib/python3.7/site-packages (from jupyter-client<7,>=6.1.3->voila) (4.7.1)\nRequirement already satisfied: ipython-genutils in /srv/conda/envs/notebook/lib/python3.7/site-packages (from jupyter-server<2.0.0,>=0.3.0->voila) (0.2.0)\nRequirement already satisfied: nbformat in /srv/conda/envs/notebook/lib/python3.7/site-packages (from jupyter-server<2.0.0,>=0.3.0->voila) (5.1.2)\nRequirement already satisfied: Send2Trash in /srv/conda/envs/notebook/lib/python3.7/site-packages (from jupyter-server<2.0.0,>=0.3.0->voila) (1.5.0)\nRequirement already satisfied: anyio>=2.0.2 in /srv/conda/envs/notebook/lib/python3.7/site-packages (from jupyter-server<2.0.0,>=0.3.0->voila) (2.2.0)\nRequirement already satisfied: prometheus-client in /srv/conda/envs/notebook/lib/python3.7/site-packages (from jupyter-server<2.0.0,>=0.3.0->voila) (0.9.0)\nRequirement already satisfied: terminado>=0.8.3 in /srv/conda/envs/notebook/lib/python3.7/site-packages (from jupyter-server<2.0.0,>=0.3.0->voila) (0.9.2)\nRequirement already satisfied: jinja2 in /srv/conda/envs/notebook/lib/python3.7/site-packages (from jupyter-server<2.0.0,>=0.3.0->voila) (2.11.3)\nRequirement already satisfied: typing-extensions in /srv/conda/envs/notebook/lib/python3.7/site-packages (from anyio>=2.0.2->jupyter-server<2.0.0,>=0.3.0->voila) (3.7.4.3)\nRequirement already satisfied: sniffio>=1.1 in /srv/conda/envs/notebook/lib/python3.7/site-packages (from anyio>=2.0.2->jupyter-server<2.0.0,>=0.3.0->voila) (1.2.0)\nRequirement already satisfied: idna>=2.8 in /srv/conda/envs/notebook/lib/python3.7/site-packages (from anyio>=2.0.2->jupyter-server<2.0.0,>=0.3.0->voila) (2.10)\nRequirement already satisfied: async-generator in /srv/conda/envs/notebook/lib/python3.7/site-packages (from nbclient<0.6,>=0.4.0->voila) (1.10)\nRequirement already satisfied: nest-asyncio in /srv/conda/envs/notebook/lib/python3.7/site-packages (from nbclient<0.6,>=0.4.0->voila) (1.4.3)\nRequirement already satisfied: entrypoints>=0.2.2 in /srv/conda/envs/notebook/lib/python3.7/site-packages (from nbconvert<7,>=6.0.0->voila) (0.3)\nRequirement already satisfied: mistune<2,>=0.8.1 in /srv/conda/envs/notebook/lib/python3.7/site-packages (from nbconvert<7,>=6.0.0->voila) (0.8.4)\nRequirement already satisfied: testpath in /srv/conda/envs/notebook/lib/python3.7/site-packages (from nbconvert<7,>=6.0.0->voila) (0.4.4)\nRequirement already satisfied: jupyterlab-pygments in /srv/conda/envs/notebook/lib/python3.7/site-packages (from nbconvert<7,>=6.0.0->voila) (0.1.2)\nRequirement already satisfied: pygments>=2.4.1 in /srv/conda/envs/notebook/lib/python3.7/site-packages (from nbconvert<7,>=6.0.0->voila) (2.8.0)\nRequirement already satisfied: bleach in /srv/conda/envs/notebook/lib/python3.7/site-packages (from nbconvert<7,>=6.0.0->voila) (3.3.0)\nRequirement already satisfied: pandocfilters>=1.4.1 in /srv/conda/envs/notebook/lib/python3.7/site-packages (from nbconvert<7,>=6.0.0->voila) (1.4.2)\nRequirement already satisfied: defusedxml in /srv/conda/envs/notebook/lib/python3.7/site-packages (from nbconvert<7,>=6.0.0->voila) (0.6.0)\nRequirement already satisfied: MarkupSafe>=0.23 in /srv/conda/envs/notebook/lib/python3.7/site-packages (from jinja2->jupyter-server<2.0.0,>=0.3.0->voila) (1.1.1)\nRequirement already satisfied: jsonschema!=2.5.0,>=2.4 in /srv/conda/envs/notebook/lib/python3.7/site-packages (from nbformat->jupyter-server<2.0.0,>=0.3.0->voila) (3.2.0)\nRequirement already satisfied: six>=1.11.0 in /srv/conda/envs/notebook/lib/python3.7/site-packages (from jsonschema!=2.5.0,>=2.4->nbformat->jupyter-server<2.0.0,>=0.3.0->voila) (1.15.0)\nRequirement already satisfied: importlib-metadata in /srv/conda/envs/notebook/lib/python3.7/site-packages (from jsonschema!=2.5.0,>=2.4->nbformat->jupyter-server<2.0.0,>=0.3.0->voila) (3.7.0)\nRequirement already satisfied: attrs>=17.4.0 in /srv/conda/envs/notebook/lib/python3.7/site-packages (from jsonschema!=2.5.0,>=2.4->nbformat->jupyter-server<2.0.0,>=0.3.0->voila) (20.3.0)\nRequirement already satisfied: setuptools in /srv/conda/envs/notebook/lib/python3.7/site-packages (from jsonschema!=2.5.0,>=2.4->nbformat->jupyter-server<2.0.0,>=0.3.0->voila) (49.6.0.post20210108)\nRequirement already satisfied: pyrsistent>=0.14.0 in /srv/conda/envs/notebook/lib/python3.7/site-packages (from jsonschema!=2.5.0,>=2.4->nbformat->jupyter-server<2.0.0,>=0.3.0->voila) (0.17.3)\nRequirement already satisfied: ptyprocess in /srv/conda/envs/notebook/lib/python3.7/site-packages (from terminado>=0.8.3->jupyter-server<2.0.0,>=0.3.0->voila) (0.7.0)\nRequirement already satisfied: webencodings in /srv/conda/envs/notebook/lib/python3.7/site-packages (from bleach->nbconvert<7,>=6.0.0->voila) (0.5.1)\nRequirement already satisfied: packaging in /srv/conda/envs/notebook/lib/python3.7/site-packages (from bleach->nbconvert<7,>=6.0.0->voila) (20.9)\nRequirement already satisfied: zipp>=0.5 in /srv/conda/envs/notebook/lib/python3.7/site-packages (from importlib-metadata->jsonschema!=2.5.0,>=2.4->nbformat->jupyter-server<2.0.0,>=0.3.0->voila) (3.4.0)\nRequirement already satisfied: pyparsing>=2.0.2 in /srv/conda/envs/notebook/lib/python3.7/site-packages (from packaging->bleach->nbconvert<7,>=6.0.0->voila) (2.4.7)\nNote: you may need to restart the kernel to use updated packages.\n",
          "output_type": "stream"
        }
      ]
    },
    {
      "cell_type": "code",
      "metadata": {
        "id": "8059bb85-7670-434d-b473-234d226cbcc3"
      },
      "source": [
        ""
      ],
      "id": "8059bb85-7670-434d-b473-234d226cbcc3",
      "execution_count": null,
      "outputs": []
    }
  ]
}